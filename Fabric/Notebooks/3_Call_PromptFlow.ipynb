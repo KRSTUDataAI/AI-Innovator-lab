{
 "cells": [
  {
   "cell_type": "markdown",
   "id": "758dd1e1-0793-4df9-ba07-270dd0a1c942",
   "metadata": {
    "microsoft": {
     "language": "python",
     "language_group": "synapse_pyspark"
    },
    "nteract": {
     "transient": {
      "deleting": false
     }
    }
   },
   "source": [
    "### RBAC"
   ]
  },
  {
   "cell_type": "markdown",
   "id": "53f970be-d47c-4c55-a47a-998be8878c83",
   "metadata": {
    "microsoft": {
     "language": "python",
     "language_group": "synapse_pyspark"
    },
    "nteract": {
     "transient": {
      "deleting": false
     }
    }
   },
   "source": [
    "If you cannot open/create PromptFlow\n",
    "\n",
    "* Storage connected to AI Hub - Security - Networking - Enable all\n",
    "* Storage connected to AI Hub - Settings - Configuration - Allow Storage Account Key Access\n",
    "* Storage connected to AI Hub - Settings - Configuration - Default to Microsoft Authorization in the Azure Portal"
   ]
  },
  {
   "cell_type": "markdown",
   "id": "966ac034-c2cf-4546-a1d2-fed8723fbab0",
   "metadata": {
    "microsoft": {
     "language": "python",
     "language_group": "synapse_pyspark"
    },
    "nteract": {
     "transient": {
      "deleting": false
     }
    }
   },
   "source": [
    "### Update Resource Info"
   ]
  },
  {
   "cell_type": "code",
   "execution_count": null,
   "id": "05d94d99-9050-400c-affe-c5a5c5c8ca1d",
   "metadata": {
    "microsoft": {
     "language": "python",
     "language_group": "synapse_pyspark"
    }
   },
   "outputs": [
    {
     "data": {
      "application/vnd.livy.statement-meta+json": {
       "execution_finish_time": "2025-03-21T16:36:08.4977236Z",
       "execution_start_time": "2025-03-21T16:36:08.2069716Z",
       "livy_statement_state": "available",
       "normalized_state": "finished",
       "parent_msg_id": "7a74a1ff-543a-47fa-a16c-dd43ad0a0936",
       "queued_time": "2025-03-21T16:36:08.2051545Z",
       "session_id": "1173008f-bfc6-4009-8ed3-e10465064f49",
       "session_start_time": null,
       "spark_pool": null,
       "state": "finished",
       "statement_id": 4,
       "statement_ids": [
        4
       ]
      },
      "text/plain": [
       "StatementMeta(, 1173008f-bfc6-4009-8ed3-e10465064f49, 4, Finished, Available, Finished)"
      ]
     },
     "metadata": {},
     "output_type": "display_data"
    }
   ],
   "source": [
    "# Your AI Foundry PromptFlow details\n",
    "\n",
    "pf_endpoint_url = \"\"\n",
    "pf_api_key = \"\""
   ]
  },
  {
   "cell_type": "markdown",
   "id": "1517bd82-ce73-4bc7-948d-88dd326b64c8",
   "metadata": {
    "microsoft": {
     "language": "python",
     "language_group": "synapse_pyspark"
    },
    "nteract": {
     "transient": {
      "deleting": false
     }
    }
   },
   "source": [
    "# Call PromptFlow"
   ]
  },
  {
   "cell_type": "code",
   "execution_count": 22,
   "id": "0df274be-83a2-4c2d-b8d4-67a2a1959935",
   "metadata": {
    "microsoft": {
     "language": "python",
     "language_group": "synapse_pyspark"
    }
   },
   "outputs": [
    {
     "data": {
      "application/vnd.livy.statement-meta+json": {
       "execution_finish_time": "2025-03-21T16:48:14.0353922Z",
       "execution_start_time": "2025-03-21T16:48:13.7806686Z",
       "livy_statement_state": "available",
       "normalized_state": "finished",
       "parent_msg_id": "95f65281-ab77-49f0-a0a4-2f716edb6635",
       "queued_time": "2025-03-21T16:48:13.7791115Z",
       "session_id": "1173008f-bfc6-4009-8ed3-e10465064f49",
       "session_start_time": null,
       "spark_pool": null,
       "state": "finished",
       "statement_id": 24,
       "statement_ids": [
        24
       ]
      },
      "text/plain": [
       "StatementMeta(, 1173008f-bfc6-4009-8ed3-e10465064f49, 24, Finished, Available, Finished)"
      ]
     },
     "metadata": {},
     "output_type": "display_data"
    }
   ],
   "source": [
    "from pyspark.sql import SparkSession\n",
    "import pandas as pd\n",
    "\n",
    "def format_context(context_data):\n",
    "\n",
    "    extracted_data = []\n",
    "    for i in range(3):  # top 3\n",
    "        item = context_data[i]\n",
    "        fields = item.get(\"additional_fields\", {})\n",
    "        extracted_data.append({\n",
    "            \"movie\": item.get(\"metadata\"),\n",
    "            \"review\": item.get(\"text\"),\n",
    "            \"keyphrases\": fields.get(\"KeyPhrases\"),\n",
    "            \"sentiment\": fields.get(\"Sentiment\"),\n",
    "            \"score\": fields.get(\"Score\"),\n",
    "            \"search_score\": fields.get(\"@search.score\"),\n",
    "            \"reranker_score\": fields.get(\"@search.reranker_score\")\n",
    "        })\n",
    "\n",
    "    pdf = pd.DataFrame(extracted_data)\n",
    "    spark_df = spark.createDataFrame(pdf)\n",
    "    display(spark_df)"
   ]
  },
  {
   "cell_type": "code",
   "execution_count": 27,
   "id": "1f40ce71-36c7-4254-9833-241146870bf1",
   "metadata": {
    "microsoft": {
     "language": "python",
     "language_group": "synapse_pyspark"
    }
   },
   "outputs": [
    {
     "data": {
      "application/vnd.livy.statement-meta+json": {
       "execution_finish_time": "2025-03-21T16:50:53.2947758Z",
       "execution_start_time": "2025-03-21T16:50:53.0262093Z",
       "livy_statement_state": "available",
       "normalized_state": "finished",
       "parent_msg_id": "25a7c4ac-fb4f-4827-9dbd-7dc44e1e399e",
       "queued_time": "2025-03-21T16:50:53.0244922Z",
       "session_id": "1173008f-bfc6-4009-8ed3-e10465064f49",
       "session_start_time": null,
       "spark_pool": null,
       "state": "finished",
       "statement_id": 29,
       "statement_ids": [
        29
       ]
      },
      "text/plain": [
       "StatementMeta(, 1173008f-bfc6-4009-8ed3-e10465064f49, 29, Finished, Available, Finished)"
      ]
     },
     "metadata": {},
     "output_type": "display_data"
    }
   ],
   "source": [
    "import requests\n",
    "\n",
    "def ask_pf(question):\n",
    "    headers = {\n",
    "        \"Authorization\": f\"Bearer {pf_api_key}\",\n",
    "        \"Content-Type\": \"application/json\"\n",
    "    }\n",
    "\n",
    "    data = {\n",
    "        \"question\": question\n",
    "    }\n",
    "\n",
    "    response = requests.post(pf_endpoint_url, headers=headers, json=data)\n",
    "\n",
    "    print(\"[RAG Response]\\n\\n\", response.json().get(\"response\"))\n",
    "\n",
    "    print(\"\\n\\n[AI Search Context]\\n\")\n",
    "    format_context(response.json().get(\"context\"))\n",
    "    \n",
    "    return response"
   ]
  },
  {
   "cell_type": "code",
   "execution_count": 28,
   "id": "fd88d1f7-731a-4fde-81f6-6a9aef495c05",
   "metadata": {
    "collapsed": false,
    "microsoft": {
     "language": "python",
     "language_group": "synapse_pyspark"
    }
   },
   "outputs": [
    {
     "data": {
      "application/vnd.livy.statement-meta+json": {
       "execution_finish_time": "2025-03-21T16:51:04.8108217Z",
       "execution_start_time": "2025-03-21T16:50:55.4385526Z",
       "livy_statement_state": "available",
       "normalized_state": "finished",
       "parent_msg_id": "dd92b11c-2700-40fb-9aaa-03007e9fc8e9",
       "queued_time": "2025-03-21T16:50:55.4368863Z",
       "session_id": "1173008f-bfc6-4009-8ed3-e10465064f49",
       "session_start_time": null,
       "spark_pool": null,
       "state": "finished",
       "statement_id": 30,
       "statement_ids": [
        30
       ]
      },
      "text/plain": [
       "StatementMeta(, 1173008f-bfc6-4009-8ed3-e10465064f49, 30, Finished, Available, Finished)"
      ]
     },
     "metadata": {},
     "output_type": "display_data"
    },
    {
     "name": "stdout",
     "output_type": "stream",
     "text": [
      "[RAG Response]\n",
      "\n",
      " From the recent reviews, \"A Star Is Born\" stands out as a film with remarkable musical numbers. It combines contemporary relevance with old-fashioned movie entertainment and includes an appealing love story between its leads. Lady Gaga's performance in particular is noted for its potential to cement her status as a movie star, largely driven by the impactful musical scenes.\n",
      "\n",
      "Additionally, \"Once Upon a Time... in Hollywood\" doesn't focus on musical numbers but is described as exquisitely crafted, which often includes a thoughtfully curated soundtrack typical of Quentin Tarantino's films.\n",
      "\n",
      "If you're open to a more casual, entertaining experience, \"Jurassic World: Fallen Kingdom\" is noted for its good mix of entertaining moments, though it isn't particularly highlighted for its music. \n",
      "\n",
      "For genuinely memorable music in film, \"A Star Is Born\" is definitely worth checking out based on the current reviews.\n",
      "\n",
      "\n",
      "[AI Search Context]\n",
      "\n"
     ]
    },
    {
     "data": {
      "application/vnd.synapse.widget-view+json": {
       "widget_id": "247fbb61-3c42-45b1-8cbc-07e30db55de6",
       "widget_type": "Synapse.DataFrame"
      },
      "text/plain": [
       "SynapseWidget(Synapse.DataFrame, 247fbb61-3c42-45b1-8cbc-07e30db55de6)"
      ]
     },
     "metadata": {},
     "output_type": "display_data"
    }
   ],
   "source": [
    "response = ask_pf(\"What are some movies with great music?\")"
   ]
  },
  {
   "cell_type": "code",
   "execution_count": 29,
   "id": "c63c8688-6fa7-4d33-a742-5bd4aa3f0419",
   "metadata": {
    "collapsed": false,
    "microsoft": {
     "language": "python",
     "language_group": "synapse_pyspark"
    }
   },
   "outputs": [
    {
     "data": {
      "application/vnd.livy.statement-meta+json": {
       "execution_finish_time": "2025-03-21T16:52:15.8219675Z",
       "execution_start_time": "2025-03-21T16:52:04.3060349Z",
       "livy_statement_state": "available",
       "normalized_state": "finished",
       "parent_msg_id": "bfbf35f8-4296-4f6a-aeb6-2c78cc41ad29",
       "queued_time": "2025-03-21T16:52:04.3045075Z",
       "session_id": "1173008f-bfc6-4009-8ed3-e10465064f49",
       "session_start_time": null,
       "spark_pool": null,
       "state": "finished",
       "statement_id": 31,
       "statement_ids": [
        31
       ]
      },
      "text/plain": [
       "StatementMeta(, 1173008f-bfc6-4009-8ed3-e10465064f49, 31, Finished, Available, Finished)"
      ]
     },
     "metadata": {},
     "output_type": "display_data"
    },
    {
     "name": "stdout",
     "output_type": "stream",
     "text": [
      "[RAG Response]\n",
      "\n",
      " I'm sorry you're feeling this way. Based on the reviews I have, it seems that \"Joker\" could be quite intense and might not be the best choice if you're looking for something uplifting. The film reflects on broken times and the journey of a deluded loner, which could be heavy viewing.\n",
      "\n",
      "On the other hand, while \"Solo: A Star Wars Story\" got mixed feelings from fans, it does have a zippy pace and could be enjoyable for those who love the Star Wars universe. It might offer some nostalgic comfort if you're familiar with the franchise.\n",
      "\n",
      "For a more thoughtful but potentially moving experience, \"First Man\" offers an immersive look into a world-shaking event like the moon landing. Although it might not bring characters to life as vividly as some would hope, it could inspire you with its depiction of human achievement.\n",
      "\n",
      "If these don't seem quite right, look for feel-good movies or comedies that specifically aim to brighten your mood and offer a light-hearted escape. Films like \"The Pursuit of Happyness,\" \"Amélie,\" or animated classics like \"Finding Nemo\" might be heartwarming options to consider.\n",
      "\n",
      "\n",
      "[AI Search Context]\n",
      "\n"
     ]
    },
    {
     "data": {
      "application/vnd.synapse.widget-view+json": {
       "widget_id": "f4740343-e924-4a70-b44f-bb5e7e7318bd",
       "widget_type": "Synapse.DataFrame"
      },
      "text/plain": [
       "SynapseWidget(Synapse.DataFrame, f4740343-e924-4a70-b44f-bb5e7e7318bd)"
      ]
     },
     "metadata": {},
     "output_type": "display_data"
    }
   ],
   "source": [
    "response = ask_pf(\"I'm depressed. Any movies to recommend, to make me feel better?\")"
   ]
  },
  {
   "cell_type": "code",
   "execution_count": 30,
   "id": "8002235d-2e2a-4309-b9a3-05f73382f2c3",
   "metadata": {
    "collapsed": false,
    "microsoft": {
     "language": "python",
     "language_group": "synapse_pyspark"
    }
   },
   "outputs": [
    {
     "data": {
      "application/vnd.livy.statement-meta+json": {
       "execution_finish_time": "2025-03-21T16:53:06.8500579Z",
       "execution_start_time": "2025-03-21T16:53:02.3587094Z",
       "livy_statement_state": "available",
       "normalized_state": "finished",
       "parent_msg_id": "940e0351-d757-416b-b9f4-2531d2d16a2a",
       "queued_time": "2025-03-21T16:53:02.3570934Z",
       "session_id": "1173008f-bfc6-4009-8ed3-e10465064f49",
       "session_start_time": null,
       "spark_pool": null,
       "state": "finished",
       "statement_id": 32,
       "statement_ids": [
        32
       ]
      },
      "text/plain": [
       "StatementMeta(, 1173008f-bfc6-4009-8ed3-e10465064f49, 32, Finished, Available, Finished)"
      ]
     },
     "metadata": {},
     "output_type": "display_data"
    },
    {
     "name": "stdout",
     "output_type": "stream",
     "text": [
      "[RAG Response]\n",
      "\n",
      " Based on some movie reviews, \"Star Wars: The Last Jedi\" is a great example of a film that uses vibrant colors effectively. The review mentions that the movie is \"brilliantly mesmerizing with a dazzling use of color,\" particularly noting the excitement and visual appeal.\n",
      "\n",
      "Another option could be \"Ready Player One,\" which, despite some negative sentiments about the adaptation, is described as being imbued \"with flashes of color and heart,\" adding to the sense of wonderment and childhood nostalgia it aims to evoke.\n",
      "\n",
      "Both of these movies capture vibrant, visually engaging experiences through their use of color in different ways.\n",
      "\n",
      "\n",
      "[AI Search Context]\n",
      "\n"
     ]
    },
    {
     "data": {
      "application/vnd.synapse.widget-view+json": {
       "widget_id": "d06720a1-bca6-4f34-ac44-450e58109efa",
       "widget_type": "Synapse.DataFrame"
      },
      "text/plain": [
       "SynapseWidget(Synapse.DataFrame, d06720a1-bca6-4f34-ac44-450e58109efa)"
      ]
     },
     "metadata": {},
     "output_type": "display_data"
    }
   ],
   "source": [
    "response = ask_pf(\"Movies with vibrant colors\")"
   ]
  }
 ],
 "metadata": {
  "dependencies": {},
  "kernel_info": {
   "name": "synapse_pyspark"
  },
  "kernelspec": {
   "display_name": "Synapse PySpark",
   "language": "Python",
   "name": "synapse_pyspark"
  },
  "language_info": {
   "name": "python"
  },
  "microsoft": {
   "language": "python",
   "language_group": "synapse_pyspark",
   "ms_spell_check": {
    "ms_spell_check_language": "en"
   }
  },
  "nteract": {
   "version": "nteract-front-end@1.0.0"
  },
  "spark_compute": {
   "compute_id": "/trident/default",
   "session_options": {
    "conf": {
     "spark.synapse.nbs.session.timeout": "1200000"
    }
   }
  },
  "synapse_widget": {
   "state": {
    "247fbb61-3c42-45b1-8cbc-07e30db55de6": {
     "persist_state": {
      "view": {
       "chartOptions": {
        "aggregationType": "sum",
        "binsNumber": 10,
        "categoryFieldKeys": [
         "0"
        ],
        "chartType": "bar",
        "evaluatesOverAllRecords": false,
        "isStacked": false,
        "seriesFieldKeys": [
         "4"
        ],
        "wordFrequency": "-1"
       },
       "tableOptions": {},
       "type": "details",
       "viewOptionsGroup": [
        {
         "tabItems": [
          {
           "key": "0",
           "name": "Table",
           "options": {},
           "type": "table"
          }
         ]
        }
       ]
      }
     },
     "sync_state": {
      "isSummary": false,
      "language": "scala",
      "table": {
       "rows": [
        {
         "0": "A STAR IS BORN",
         "1": "It's a film that's wise to what it means to be famous in 2018 as well as old-fashioned movie entertainment, with gangbusters musical numbers and an effective and appealing love story between its two leads. And it will make Lady Gaga a movie star.",
         "2": "gangbusters musical numbers, appealing love story, old-fashioned movie entertainment, movie star, two leads, Lady Gaga, film, effective",
         "3": "positive",
         "4": "87.0",
         "5": "0.02687074989080429",
         "6": "2.0425362586975098"
        },
        {
         "0": "ONCE UPON A TIME... IN HOLLYWOOD",
         "1": "A superb time at the movies, a languid, fun, exquisitely crafted movie movie that is best appreciated in the context of QT's whole career ... if this is your first Tarantino, you'll have a great time, but it needs to be your ninth for you to get it.",
         "2": "languid, fun, exquisitely crafted movie movie, superb time, first Tarantino, great time, movies, context, QT, career",
         "3": "positive",
         "4": "90.0",
         "5": "0.01666666753590107",
         "6": "2.029686689376831"
        },
        {
         "0": "JURASSIC WORLD: FALLEN KINGDOM",
         "1": "Fallen Kingdom is cheesy, predictable, but entertaining. It's one of those movies that you'll enjoy if you don't bother thinking about things during the movie. I can't even call it a bad movie because it does have a good mix of entertaining moments.",
         "2": "Fallen Kingdom, good mix, entertaining moments, movies, things",
         "3": "positive",
         "4": "60.0",
         "5": "0.014925372786819935",
         "6": "2.001772403717041"
        }
       ],
       "schema": [
        {
         "key": "0",
         "name": "movie",
         "type": "string"
        },
        {
         "key": "1",
         "name": "review",
         "type": "string"
        },
        {
         "key": "2",
         "name": "keyphrases",
         "type": "string"
        },
        {
         "key": "3",
         "name": "sentiment",
         "type": "string"
        },
        {
         "key": "4",
         "name": "score",
         "type": "double"
        },
        {
         "key": "5",
         "name": "search_score",
         "type": "double"
        },
        {
         "key": "6",
         "name": "reranker_score",
         "type": "double"
        }
       ],
       "truncated": false
      },
      "wranglerEntryContext": {
       "dataframeType": "pyspark"
      }
     },
     "type": "Synapse.DataFrame"
    },
    "d06720a1-bca6-4f34-ac44-450e58109efa": {
     "persist_state": {
      "view": {
       "chartOptions": {
        "aggregationType": "sum",
        "binsNumber": 10,
        "categoryFieldKeys": [
         "0"
        ],
        "chartType": "bar",
        "evaluatesOverAllRecords": false,
        "isStacked": false,
        "seriesFieldKeys": [
         "4"
        ],
        "wordFrequency": "-1"
       },
       "tableOptions": {},
       "type": "details",
       "viewOptionsGroup": [
        {
         "tabItems": [
          {
           "key": "0",
           "name": "Table",
           "options": {},
           "type": "table"
          }
         ]
        }
       ]
      }
     },
     "sync_state": {
      "isSummary": false,
      "language": "scala",
      "table": {
       "rows": [
        {
         "0": "STAR WARS: THE LAST JEDI",
         "1": "Brilliantly mesmerizing with a dazzling use of color, the action sequences are perhaps the best they've ever been, and the comedy in the film made a guy who generally rolls his eyes at everything laugh like a fool for two and a half hours straight.",
         "2": "a half hours, dazzling use, action sequences, color, comedy, film, guy, eyes, everything, fool, two",
         "3": "positive",
         "4": "100.0",
         "5": "0.026102179661393166",
         "6": "2.4533660411834717"
        },
        {
         "0": "READY PLAYER ONE",
         "1": "Many of the book's references to Spielberg's cultural artifacts have been stripped away, but he imbibes the movie with flashes of colour and heart that rekindle a sense of wonderment that will transport many viewers back to their childhoods.",
         "2": "many viewers back, cultural artifacts, book, references, Spielberg, movie, flashes, colour, heart, sense, wonderment, childhoods",
         "3": "negative",
         "4": "75.0",
         "5": "0.02460360899567604",
         "6": "2.27878999710083"
        },
        {
         "0": "STAR WARS: THE LAST JEDI",
         "1": "A red throne room evokes the Technicolor fantasies of Michael Powell and Vincente Minnelli, while the scratchy surfaces of a sand planet trace the arc of each combatant's footwork like a choreographer's notation, transforming a duel into a dance.",
         "2": "red throne room, Technicolor fantasies, Michael Powell, Vincente Minnelli, scratchy surfaces, sand planet, arc, combatant, footwork, choreographer, notation, duel, dance",
         "3": "neutral",
         "4": "100.0",
         "5": "0.01666666753590107",
         "6": "2.1797878742218018"
        }
       ],
       "schema": [
        {
         "key": "0",
         "name": "movie",
         "type": "string"
        },
        {
         "key": "1",
         "name": "review",
         "type": "string"
        },
        {
         "key": "2",
         "name": "keyphrases",
         "type": "string"
        },
        {
         "key": "3",
         "name": "sentiment",
         "type": "string"
        },
        {
         "key": "4",
         "name": "score",
         "type": "double"
        },
        {
         "key": "5",
         "name": "search_score",
         "type": "double"
        },
        {
         "key": "6",
         "name": "reranker_score",
         "type": "double"
        }
       ],
       "truncated": false
      },
      "wranglerEntryContext": {
       "dataframeType": "pyspark"
      }
     },
     "type": "Synapse.DataFrame"
    },
    "f4740343-e924-4a70-b44f-bb5e7e7318bd": {
     "persist_state": {
      "view": {
       "chartOptions": {
        "aggregationType": "sum",
        "binsNumber": 10,
        "categoryFieldKeys": [
         "0"
        ],
        "chartType": "bar",
        "evaluatesOverAllRecords": false,
        "isStacked": false,
        "seriesFieldKeys": [
         "4"
        ],
        "wordFrequency": "-1"
       },
       "tableOptions": {},
       "type": "details",
       "viewOptionsGroup": [
        {
         "tabItems": [
          {
           "key": "0",
           "name": "Table",
           "options": {},
           "type": "table"
          }
         ]
        }
       ]
      }
     },
     "sync_state": {
      "isSummary": false,
      "language": "scala",
      "table": {
       "rows": [
        {
         "0": "JOKER",
         "1": "Consciously channelling classics such as Taxi Driver and The King Of Comedy, it's a visually striking, breathtakingly dangerous reflection of our broken times wherein a deluded loner finally finds himself empowered and noticed when he picks up a gun.",
         "2": "breathtakingly dangerous reflection, Taxi Driver, The King, broken times, deluded loner, classics, Comedy, gun",
         "3": "negative",
         "4": "100.0",
         "5": "0.016393441706895828",
         "6": "2.0448403358459473"
        },
        {
         "0": "SOLO: A STAR WARS STORY",
         "1": "The picture is zippy enough to almost earn a recommendation. But while those folks who love all things Star Wars regardless of quality will adore it, those of us who grew up with the franchise and find it still rooted in our DNA deserved something better.",
         "2": "Star Wars, picture, recommendation, folks, things, quality, franchise, DNA, something",
         "3": "neutral",
         "4": "62.0",
         "5": "0.010309278033673763",
         "6": "1.989720344543457"
        },
        {
         "0": "FIRST MAN",
         "1": "For better and for worse, First Man feels like a close cousin to Christopher Nolan's Dunkirk, another film that masterfully reproduced the sights and sounds of a world-shaking event. The people involved, though, don't come quite as vividly to life.",
         "2": "First Man, close cousin, Christopher Nolan, world-shaking event, Dunkirk, film, sights, sounds, people, life",
         "3": "negative",
         "4": "75.0",
         "5": "0.01149425283074379",
         "6": "1.9851123094558716"
        }
       ],
       "schema": [
        {
         "key": "0",
         "name": "movie",
         "type": "string"
        },
        {
         "key": "1",
         "name": "review",
         "type": "string"
        },
        {
         "key": "2",
         "name": "keyphrases",
         "type": "string"
        },
        {
         "key": "3",
         "name": "sentiment",
         "type": "string"
        },
        {
         "key": "4",
         "name": "score",
         "type": "double"
        },
        {
         "key": "5",
         "name": "search_score",
         "type": "double"
        },
        {
         "key": "6",
         "name": "reranker_score",
         "type": "double"
        }
       ],
       "truncated": false
      },
      "wranglerEntryContext": {
       "dataframeType": "pyspark"
      }
     },
     "type": "Synapse.DataFrame"
    }
   },
   "version": "0.1"
  }
 },
 "nbformat": 4,
 "nbformat_minor": 5
}
