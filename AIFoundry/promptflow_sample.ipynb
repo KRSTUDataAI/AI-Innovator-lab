{
 "cells": [
  {
   "cell_type": "markdown",
   "metadata": {},
   "source": [
    "# Prompt Guide for PromptFlow"
   ]
  },
  {
   "cell_type": "markdown",
   "metadata": {},
   "source": [
    "### RAG with GPT-4o"
   ]
  },
  {
   "cell_type": "code",
   "execution_count": null,
   "metadata": {
    "vscode": {
     "languageId": "plaintext"
    }
   },
   "outputs": [],
   "source": [
    "# system:\n",
    "- Answer based on relevant movie reviews provided. {{rag_results}}\n",
    "- If you cannot answer based on existing reviews, your reply should start with a disclosure that says so.\n",
    "- Instead of directly displaying reviews, use them as a context to create a natural response.\n",
    "\n",
    "# user:\n",
    "{{question}}"
   ]
  },
  {
   "cell_type": "markdown",
   "metadata": {},
   "source": [
    "### Sample Questions"
   ]
  },
  {
   "cell_type": "code",
   "execution_count": null,
   "metadata": {
    "vscode": {
     "languageId": "plaintext"
    }
   },
   "outputs": [],
   "source": [
    "What are some movies with great music?"
   ]
  }
 ],
 "metadata": {
  "language_info": {
   "name": "python"
  }
 },
 "nbformat": 4,
 "nbformat_minor": 2
}
